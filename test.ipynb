{
 "cells": [
  {
   "cell_type": "markdown",
   "metadata": {},
   "source": [
    "## validation"
   ]
  },
  {
   "cell_type": "code",
   "execution_count": null,
   "metadata": {},
   "outputs": [],
   "source": [
    "# with yolov5 repo\n",
    "!python3 yolov5/val.py \\\n",
    "    --weights <path_to_weights> \\\n",
    "    --data <path_to_data.yaml> \\\n",
    "\n",
    "\n",
    "# with ultralytics\n",
    "!yolo detect val model=path/to/best.pt  # val custom model"
   ]
  },
  {
   "cell_type": "markdown",
   "metadata": {},
   "source": [
    "## detection"
   ]
  },
  {
   "cell_type": "code",
   "execution_count": null,
   "metadata": {},
   "outputs": [],
   "source": [
    "# with yolov5 repo\n",
    "!python3 yolov5/detect.py \\\n",
    "    --weights <path_to_weights> \\\n",
    "    --source <path_to_source> \\\n",
    "    --conf-thres <confidence_threshold> \\\n",
    "    --iou-thres <iou_threshold> \\\n",
    "    --imgsz <image_size>\n",
    "\n",
    "\n",
    "# with ultralytics\n",
    "!yolo detect predict model=path/to/best.pt source='path_to_source'"
   ]
  },
  {
   "cell_type": "markdown",
   "metadata": {},
   "source": [
    "## benchmark"
   ]
  },
  {
   "cell_type": "code",
   "execution_count": null,
   "metadata": {},
   "outputs": [],
   "source": [
    "# with yolov5 repo\n",
    "!python3 yolov5/benchmarks.py \\\n",
    "    --weights <path_to_weights> \\\n",
    "    --data <path_to_data.yaml> \\\n",
    "\n",
    "\n",
    "# with ultralytics\n",
    "!yolo benchmark model=yolov8n.pt data='<path_to_data.yaml>' imgsz=640 half=False device=0"
   ]
  },
  {
   "cell_type": "markdown",
   "metadata": {},
   "source": [
    "## export"
   ]
  },
  {
   "cell_type": "code",
   "execution_count": null,
   "metadata": {},
   "outputs": [],
   "source": [
    "# with yolov5 repo\n",
    "!python3 yolov5/export.py \\\n",
    "    --weights <path_to_weights> \\\n",
    "    --data <path_to_data.yaml> \\\n",
    "    --include onnx \\\n",
    "\n",
    "\n",
    "# with ultralytics\n",
    "!yolo export model=path/to/best.pt format=onnx  # export custom trained model"
   ]
  }
 ],
 "metadata": {
  "language_info": {
   "name": "python"
  }
 },
 "nbformat": 4,
 "nbformat_minor": 2
}
