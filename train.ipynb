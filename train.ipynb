{
 "cells": [
  {
   "cell_type": "markdown",
   "metadata": {},
   "source": [
    "### download data in yolov5 pytorch format"
   ]
  },
  {
   "cell_type": "code",
   "execution_count": null,
   "metadata": {},
   "outputs": [],
   "source": [
    "from roboflow import Roboflow\n",
    "rf = Roboflow(api_key=\"IO3G6VdXsCYBfe58YNmT\")\n",
    "project = rf.workspace(\"counting-7s14z\").project(\"real-data-zv54g\")\n",
    "version = project.version(13)\n",
    "dataset = version.download(\"yolov5\")"
   ]
  },
  {
   "cell_type": "markdown",
   "metadata": {},
   "source": [
    "### training\n",
    "##### with yolov5 repo"
   ]
  },
  {
   "cell_type": "markdown",
   "metadata": {},
   "source": [
    "to use pre-trained weights --weights"
   ]
  },
  {
   "cell_type": "code",
   "execution_count": null,
   "metadata": {},
   "outputs": [],
   "source": [
    "!python3 yolov5/train.py \\\n",
    "    --data Real-Data-13/data.yaml \\\n",
    "    --cfg models/yolov5_fpn.yaml \\\n",
    "    --img 640 --batch-size -1 --epochs 300 --seed 42 --name yolov5+fpnHead"
   ]
  },
  {
   "cell_type": "markdown",
   "metadata": {},
   "source": [
    "### training\n",
    "##### without yolov5 repo"
   ]
  },
  {
   "cell_type": "code",
   "execution_count": null,
   "metadata": {},
   "outputs": [],
   "source": [
    "from ultralytics import YOLO\n",
    "\n",
    "# load model\n",
    "# model = YOLO(\"yolov5S.pt\")  # load pretrained model\n",
    "model = YOLO('models/yolov5_fpn.yaml').load('yolov5s.pt')  # build from YAML and transfer weights\n",
    "# model = YOLO(\"models/yolov5_fpn.yaml\")  # train model from scratch\n",
    "\n",
    "\n",
    "model.train(\n",
    "    data=\"/home/alluvium/Masood/Real-Data-13/data.yaml\",\n",
    "    seed = 42,\n",
    "    epochs=300,\n",
    "    imgsz=1024,\n",
    "    batch=-1,\n",
    "    optimizer = 'SGD',\n",
    "    name=\"yolov5+fpnHead\",\n",
    ") "
   ]
  }
 ],
 "metadata": {
  "kernelspec": {
   "display_name": "myenv",
   "language": "python",
   "name": "python3"
  },
  "language_info": {
   "codemirror_mode": {
    "name": "ipython",
    "version": 3
   },
   "file_extension": ".py",
   "mimetype": "text/x-python",
   "name": "python",
   "nbconvert_exporter": "python",
   "pygments_lexer": "ipython3",
   "version": "3.10.12"
  }
 },
 "nbformat": 4,
 "nbformat_minor": 2
}
