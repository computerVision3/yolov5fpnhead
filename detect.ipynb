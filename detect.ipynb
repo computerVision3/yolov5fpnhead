{
 "cells": [
  {
   "cell_type": "markdown",
   "metadata": {},
   "source": [
    "### detection"
   ]
  },
  {
   "cell_type": "code",
   "execution_count": null,
   "metadata": {},
   "outputs": [],
   "source": [
    "!python3 yolov5/detect.py \\\n",
    "    --weights \\\n",
    "    --source \\\n",
    "    --conf-thres \\\n",
    "    --iou-thres \\\n",
    "    --imgsz \\"
   ]
  }
 ],
 "metadata": {
  "language_info": {
   "name": "python"
  }
 },
 "nbformat": 4,
 "nbformat_minor": 2
}
